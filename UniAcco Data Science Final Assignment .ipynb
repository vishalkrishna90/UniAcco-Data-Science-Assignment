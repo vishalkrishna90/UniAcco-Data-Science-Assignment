{
 "cells": [
  {
   "cell_type": "code",
   "execution_count": 1,
   "id": "54373090",
   "metadata": {},
   "outputs": [],
   "source": [
    "# import important libraries\n",
    "import pandas as pd\n",
    "import numpy as np\n",
    "import matplotlib.pyplot as plt\n",
    "import seaborn as sns\n",
    "import warnings as war\n",
    "war.filterwarnings('ignore')\n",
    "pd.set_option('max_columns',None)\n",
    "import re"
   ]
  },
  {
   "cell_type": "code",
   "execution_count": 2,
   "id": "1ce80e10",
   "metadata": {},
   "outputs": [
    {
     "data": {
      "text/plain": [
       "(46608, 16)"
      ]
     },
     "execution_count": 2,
     "metadata": {},
     "output_type": "execute_result"
    }
   ],
   "source": [
    "# load dataset\n",
    "df = pd.read_csv('Data_Science_Internship - Dump.csv')\n",
    "df.shape"
   ]
  },
  {
   "cell_type": "code",
   "execution_count": 3,
   "id": "f6044cc6",
   "metadata": {},
   "outputs": [
    {
     "data": {
      "text/html": [
       "<div>\n",
       "<style scoped>\n",
       "    .dataframe tbody tr th:only-of-type {\n",
       "        vertical-align: middle;\n",
       "    }\n",
       "\n",
       "    .dataframe tbody tr th {\n",
       "        vertical-align: top;\n",
       "    }\n",
       "\n",
       "    .dataframe thead th {\n",
       "        text-align: right;\n",
       "    }\n",
       "</style>\n",
       "<table border=\"1\" class=\"dataframe\">\n",
       "  <thead>\n",
       "    <tr style=\"text-align: right;\">\n",
       "      <th></th>\n",
       "      <th>Unnamed: 0</th>\n",
       "      <th>Agent_id</th>\n",
       "      <th>status</th>\n",
       "      <th>lost_reason</th>\n",
       "      <th>budget</th>\n",
       "      <th>lease</th>\n",
       "      <th>movein</th>\n",
       "      <th>source</th>\n",
       "      <th>source_city</th>\n",
       "      <th>source_country</th>\n",
       "      <th>utm_source</th>\n",
       "      <th>utm_medium</th>\n",
       "      <th>des_city</th>\n",
       "      <th>des_country</th>\n",
       "      <th>room_type</th>\n",
       "      <th>lead_id</th>\n",
       "    </tr>\n",
       "  </thead>\n",
       "  <tbody>\n",
       "    <tr>\n",
       "      <th>0</th>\n",
       "      <td>0</td>\n",
       "      <td>1deba9e96f404694373de9749ddd1ca8aa7bb823145a6f...</td>\n",
       "      <td>LOST</td>\n",
       "      <td>Not responding</td>\n",
       "      <td>NaN</td>\n",
       "      <td>NaN</td>\n",
       "      <td>NaN</td>\n",
       "      <td>9b2d5b4678781e53038e91ea5324530a03f27dc1d0e5f6...</td>\n",
       "      <td>9b2d5b4678781e53038e91ea5324530a03f27dc1d0e5f6...</td>\n",
       "      <td>9b2d5b4678781e53038e91ea5324530a03f27dc1d0e5f6...</td>\n",
       "      <td>3d59f7548e1af2151b64135003ce63c0a484c26b9b8b16...</td>\n",
       "      <td>268ad70eb5bc4737a2ae28162cbca30118cc94520e49ef...</td>\n",
       "      <td>ecc0e7dc084f141b29479058967d0bc07dee25d9690a98...</td>\n",
       "      <td>8d23a6e37e0a6431a8f1b43a91026dcff51170a89a6512...</td>\n",
       "      <td>NaN</td>\n",
       "      <td>cd5dc0d9393f3980d11d4ba6f88f8110c2b7a7f7796307...</td>\n",
       "    </tr>\n",
       "    <tr>\n",
       "      <th>1</th>\n",
       "      <td>1</td>\n",
       "      <td>299ae77a4ef350ae0dd37d6bba1c002d03444fb1edb236...</td>\n",
       "      <td>LOST</td>\n",
       "      <td>Low budget</td>\n",
       "      <td>NaN</td>\n",
       "      <td>NaN</td>\n",
       "      <td>NaN</td>\n",
       "      <td>9b2d5b4678781e53038e91ea5324530a03f27dc1d0e5f6...</td>\n",
       "      <td>9b2d5b4678781e53038e91ea5324530a03f27dc1d0e5f6...</td>\n",
       "      <td>9b2d5b4678781e53038e91ea5324530a03f27dc1d0e5f6...</td>\n",
       "      <td>3d59f7548e1af2151b64135003ce63c0a484c26b9b8b16...</td>\n",
       "      <td>268ad70eb5bc4737a2ae28162cbca30118cc94520e49ef...</td>\n",
       "      <td>5372372f3bf5896820cb2819300c3e681820d82c6efc54...</td>\n",
       "      <td>8d23a6e37e0a6431a8f1b43a91026dcff51170a89a6512...</td>\n",
       "      <td>NaN</td>\n",
       "      <td>b94693673a5f7178d1b114e4004ad52377d3244dd24a3d...</td>\n",
       "    </tr>\n",
       "    <tr>\n",
       "      <th>2</th>\n",
       "      <td>2</td>\n",
       "      <td>c213697430c006013012dd2aca82dd9732aa0a1a6bca13...</td>\n",
       "      <td>LOST</td>\n",
       "      <td>Not responding</td>\n",
       "      <td>£121 - £180 Per Week</td>\n",
       "      <td>Full Year Course Stay 40 - 44 weeks</td>\n",
       "      <td>31/08/22</td>\n",
       "      <td>7aae3e886e89fc1187a5c47d6cea1c22998ee610ade1f2...</td>\n",
       "      <td>9b8cc3c63cdf447e463c11544924bf027945cbd29675f7...</td>\n",
       "      <td>e09e10e67812e9d236ad900e5d46b4308fc62f5d69446a...</td>\n",
       "      <td>bbdefa2950f49882f295b1285d4fa9dec45fc4144bfb07...</td>\n",
       "      <td>09076eb7665d1fb9389c7c4517fee0b00e43092eb34821...</td>\n",
       "      <td>11ab03a1a8c367191355c152f39fe28cae5e426fce49ef...</td>\n",
       "      <td>8d23a6e37e0a6431a8f1b43a91026dcff51170a89a6512...</td>\n",
       "      <td>Ensuite</td>\n",
       "      <td>96ea4e2bf04496c044745938c0299c264c3f4ba079e572...</td>\n",
       "    </tr>\n",
       "    <tr>\n",
       "      <th>3</th>\n",
       "      <td>3</td>\n",
       "      <td>eac9815a500f908736d303e23aa227f0957177b0e6756b...</td>\n",
       "      <td>LOST</td>\n",
       "      <td>Low budget</td>\n",
       "      <td>0-0</td>\n",
       "      <td>0</td>\n",
       "      <td>NaN</td>\n",
       "      <td>ba2d0a29556ac20f86f45e4543c0825428cba33fd7a9ea...</td>\n",
       "      <td>a5f0d2d08eb0592087e3a3a2f9c1ba2c67cc30f2efd2bd...</td>\n",
       "      <td>e09e10e67812e9d236ad900e5d46b4308fc62f5d69446a...</td>\n",
       "      <td>bbdefa2950f49882f295b1285d4fa9dec45fc4144bfb07...</td>\n",
       "      <td>09076eb7665d1fb9389c7c4517fee0b00e43092eb34821...</td>\n",
       "      <td>19372fa44c57a01c37a5a8418779ca3d99b0b59731fb35...</td>\n",
       "      <td>8d23a6e37e0a6431a8f1b43a91026dcff51170a89a6512...</td>\n",
       "      <td>NaN</td>\n",
       "      <td>1d2b34d8add02a182a4129023766ca4585a8ddced0e5b3...</td>\n",
       "    </tr>\n",
       "    <tr>\n",
       "      <th>4</th>\n",
       "      <td>4</td>\n",
       "      <td>1deba9e96f404694373de9749ddd1ca8aa7bb823145a6f...</td>\n",
       "      <td>LOST</td>\n",
       "      <td>Junk lead</td>\n",
       "      <td>NaN</td>\n",
       "      <td>NaN</td>\n",
       "      <td>NaN</td>\n",
       "      <td>9b2d5b4678781e53038e91ea5324530a03f27dc1d0e5f6...</td>\n",
       "      <td>9b2d5b4678781e53038e91ea5324530a03f27dc1d0e5f6...</td>\n",
       "      <td>9b2d5b4678781e53038e91ea5324530a03f27dc1d0e5f6...</td>\n",
       "      <td>3d59f7548e1af2151b64135003ce63c0a484c26b9b8b16...</td>\n",
       "      <td>268ad70eb5bc4737a2ae28162cbca30118cc94520e49ef...</td>\n",
       "      <td>9b2d5b4678781e53038e91ea5324530a03f27dc1d0e5f6...</td>\n",
       "      <td>9b2d5b4678781e53038e91ea5324530a03f27dc1d0e5f6...</td>\n",
       "      <td>NaN</td>\n",
       "      <td>fc10fffd29cfbe93c55158fb47752a7501c211d253468c...</td>\n",
       "    </tr>\n",
       "  </tbody>\n",
       "</table>\n",
       "</div>"
      ],
      "text/plain": [
       "   Unnamed: 0                                           Agent_id status  \\\n",
       "0           0  1deba9e96f404694373de9749ddd1ca8aa7bb823145a6f...   LOST   \n",
       "1           1  299ae77a4ef350ae0dd37d6bba1c002d03444fb1edb236...   LOST   \n",
       "2           2  c213697430c006013012dd2aca82dd9732aa0a1a6bca13...   LOST   \n",
       "3           3  eac9815a500f908736d303e23aa227f0957177b0e6756b...   LOST   \n",
       "4           4  1deba9e96f404694373de9749ddd1ca8aa7bb823145a6f...   LOST   \n",
       "\n",
       "      lost_reason                budget                                lease  \\\n",
       "0  Not responding                   NaN                                  NaN   \n",
       "1      Low budget                   NaN                                  NaN   \n",
       "2  Not responding  £121 - £180 Per Week  Full Year Course Stay 40 - 44 weeks   \n",
       "3      Low budget                   0-0                                    0   \n",
       "4       Junk lead                   NaN                                  NaN   \n",
       "\n",
       "     movein                                             source  \\\n",
       "0       NaN  9b2d5b4678781e53038e91ea5324530a03f27dc1d0e5f6...   \n",
       "1       NaN  9b2d5b4678781e53038e91ea5324530a03f27dc1d0e5f6...   \n",
       "2  31/08/22  7aae3e886e89fc1187a5c47d6cea1c22998ee610ade1f2...   \n",
       "3       NaN  ba2d0a29556ac20f86f45e4543c0825428cba33fd7a9ea...   \n",
       "4       NaN  9b2d5b4678781e53038e91ea5324530a03f27dc1d0e5f6...   \n",
       "\n",
       "                                         source_city  \\\n",
       "0  9b2d5b4678781e53038e91ea5324530a03f27dc1d0e5f6...   \n",
       "1  9b2d5b4678781e53038e91ea5324530a03f27dc1d0e5f6...   \n",
       "2  9b8cc3c63cdf447e463c11544924bf027945cbd29675f7...   \n",
       "3  a5f0d2d08eb0592087e3a3a2f9c1ba2c67cc30f2efd2bd...   \n",
       "4  9b2d5b4678781e53038e91ea5324530a03f27dc1d0e5f6...   \n",
       "\n",
       "                                      source_country  \\\n",
       "0  9b2d5b4678781e53038e91ea5324530a03f27dc1d0e5f6...   \n",
       "1  9b2d5b4678781e53038e91ea5324530a03f27dc1d0e5f6...   \n",
       "2  e09e10e67812e9d236ad900e5d46b4308fc62f5d69446a...   \n",
       "3  e09e10e67812e9d236ad900e5d46b4308fc62f5d69446a...   \n",
       "4  9b2d5b4678781e53038e91ea5324530a03f27dc1d0e5f6...   \n",
       "\n",
       "                                          utm_source  \\\n",
       "0  3d59f7548e1af2151b64135003ce63c0a484c26b9b8b16...   \n",
       "1  3d59f7548e1af2151b64135003ce63c0a484c26b9b8b16...   \n",
       "2  bbdefa2950f49882f295b1285d4fa9dec45fc4144bfb07...   \n",
       "3  bbdefa2950f49882f295b1285d4fa9dec45fc4144bfb07...   \n",
       "4  3d59f7548e1af2151b64135003ce63c0a484c26b9b8b16...   \n",
       "\n",
       "                                          utm_medium  \\\n",
       "0  268ad70eb5bc4737a2ae28162cbca30118cc94520e49ef...   \n",
       "1  268ad70eb5bc4737a2ae28162cbca30118cc94520e49ef...   \n",
       "2  09076eb7665d1fb9389c7c4517fee0b00e43092eb34821...   \n",
       "3  09076eb7665d1fb9389c7c4517fee0b00e43092eb34821...   \n",
       "4  268ad70eb5bc4737a2ae28162cbca30118cc94520e49ef...   \n",
       "\n",
       "                                            des_city  \\\n",
       "0  ecc0e7dc084f141b29479058967d0bc07dee25d9690a98...   \n",
       "1  5372372f3bf5896820cb2819300c3e681820d82c6efc54...   \n",
       "2  11ab03a1a8c367191355c152f39fe28cae5e426fce49ef...   \n",
       "3  19372fa44c57a01c37a5a8418779ca3d99b0b59731fb35...   \n",
       "4  9b2d5b4678781e53038e91ea5324530a03f27dc1d0e5f6...   \n",
       "\n",
       "                                         des_country room_type  \\\n",
       "0  8d23a6e37e0a6431a8f1b43a91026dcff51170a89a6512...       NaN   \n",
       "1  8d23a6e37e0a6431a8f1b43a91026dcff51170a89a6512...       NaN   \n",
       "2  8d23a6e37e0a6431a8f1b43a91026dcff51170a89a6512...   Ensuite   \n",
       "3  8d23a6e37e0a6431a8f1b43a91026dcff51170a89a6512...       NaN   \n",
       "4  9b2d5b4678781e53038e91ea5324530a03f27dc1d0e5f6...       NaN   \n",
       "\n",
       "                                             lead_id  \n",
       "0  cd5dc0d9393f3980d11d4ba6f88f8110c2b7a7f7796307...  \n",
       "1  b94693673a5f7178d1b114e4004ad52377d3244dd24a3d...  \n",
       "2  96ea4e2bf04496c044745938c0299c264c3f4ba079e572...  \n",
       "3  1d2b34d8add02a182a4129023766ca4585a8ddced0e5b3...  \n",
       "4  fc10fffd29cfbe93c55158fb47752a7501c211d253468c...  "
      ]
     },
     "execution_count": 3,
     "metadata": {},
     "output_type": "execute_result"
    }
   ],
   "source": [
    "df.head()"
   ]
  },
  {
   "cell_type": "markdown",
   "id": "640039b9",
   "metadata": {},
   "source": [
    "**Create New Dataframe With Important Column**"
   ]
  },
  {
   "cell_type": "code",
   "execution_count": 4,
   "id": "cc7ca9e9",
   "metadata": {
    "scrolled": true
   },
   "outputs": [
    {
     "data": {
      "text/html": [
       "<div>\n",
       "<style scoped>\n",
       "    .dataframe tbody tr th:only-of-type {\n",
       "        vertical-align: middle;\n",
       "    }\n",
       "\n",
       "    .dataframe tbody tr th {\n",
       "        vertical-align: top;\n",
       "    }\n",
       "\n",
       "    .dataframe thead th {\n",
       "        text-align: right;\n",
       "    }\n",
       "</style>\n",
       "<table border=\"1\" class=\"dataframe\">\n",
       "  <thead>\n",
       "    <tr style=\"text-align: right;\">\n",
       "      <th></th>\n",
       "      <th>status</th>\n",
       "      <th>lost_reason</th>\n",
       "      <th>budget</th>\n",
       "      <th>lease</th>\n",
       "      <th>movein</th>\n",
       "      <th>room_type</th>\n",
       "    </tr>\n",
       "  </thead>\n",
       "  <tbody>\n",
       "    <tr>\n",
       "      <th>0</th>\n",
       "      <td>LOST</td>\n",
       "      <td>Not responding</td>\n",
       "      <td>NaN</td>\n",
       "      <td>NaN</td>\n",
       "      <td>NaN</td>\n",
       "      <td>NaN</td>\n",
       "    </tr>\n",
       "    <tr>\n",
       "      <th>1</th>\n",
       "      <td>LOST</td>\n",
       "      <td>Low budget</td>\n",
       "      <td>NaN</td>\n",
       "      <td>NaN</td>\n",
       "      <td>NaN</td>\n",
       "      <td>NaN</td>\n",
       "    </tr>\n",
       "    <tr>\n",
       "      <th>2</th>\n",
       "      <td>LOST</td>\n",
       "      <td>Not responding</td>\n",
       "      <td>£121 - £180 Per Week</td>\n",
       "      <td>Full Year Course Stay 40 - 44 weeks</td>\n",
       "      <td>31/08/22</td>\n",
       "      <td>Ensuite</td>\n",
       "    </tr>\n",
       "    <tr>\n",
       "      <th>3</th>\n",
       "      <td>LOST</td>\n",
       "      <td>Low budget</td>\n",
       "      <td>0-0</td>\n",
       "      <td>0</td>\n",
       "      <td>NaN</td>\n",
       "      <td>NaN</td>\n",
       "    </tr>\n",
       "    <tr>\n",
       "      <th>4</th>\n",
       "      <td>LOST</td>\n",
       "      <td>Junk lead</td>\n",
       "      <td>NaN</td>\n",
       "      <td>NaN</td>\n",
       "      <td>NaN</td>\n",
       "      <td>NaN</td>\n",
       "    </tr>\n",
       "  </tbody>\n",
       "</table>\n",
       "</div>"
      ],
      "text/plain": [
       "  status     lost_reason                budget  \\\n",
       "0   LOST  Not responding                   NaN   \n",
       "1   LOST      Low budget                   NaN   \n",
       "2   LOST  Not responding  £121 - £180 Per Week   \n",
       "3   LOST      Low budget                   0-0   \n",
       "4   LOST       Junk lead                   NaN   \n",
       "\n",
       "                                 lease    movein room_type  \n",
       "0                                  NaN       NaN       NaN  \n",
       "1                                  NaN       NaN       NaN  \n",
       "2  Full Year Course Stay 40 - 44 weeks  31/08/22   Ensuite  \n",
       "3                                    0       NaN       NaN  \n",
       "4                                  NaN       NaN       NaN  "
      ]
     },
     "execution_count": 4,
     "metadata": {},
     "output_type": "execute_result"
    }
   ],
   "source": [
    "# create new dataframe\n",
    "dfx = df[['status', 'lost_reason', 'budget', 'lease',\n",
    "       'movein','room_type']]\n",
    "dfx.head()"
   ]
  },
  {
   "cell_type": "markdown",
   "id": "380643d4",
   "metadata": {},
   "source": [
    "# Handle Null And Duplicate Values"
   ]
  },
  {
   "cell_type": "code",
   "execution_count": 5,
   "id": "a9f9b250",
   "metadata": {},
   "outputs": [
    {
     "name": "stdout",
     "output_type": "stream",
     "text": [
      "Null Values:-\n",
      "\n",
      "status             0\n",
      "lost_reason     3364\n",
      "budget          3700\n",
      "lease           2341\n",
      "movein         13638\n",
      "room_type      23547\n",
      "dtype: int64\n",
      "\n",
      "Null Values In Percentage:-\n",
      "\n",
      "status          0.000000\n",
      "lost_reason     7.217645\n",
      "budget          7.938551\n",
      "lease           5.022743\n",
      "movein         29.261071\n",
      "room_type      50.521370\n",
      "dtype: float64\n"
     ]
    }
   ],
   "source": [
    "# find null values\n",
    "print(f'Null Values:-\\n\\n{dfx.isnull().sum()}\\n\\nNull Values In Percentage:-\\n\\n{(dfx.isnull().sum()/dfx.shape[0])*100}')"
   ]
  },
  {
   "cell_type": "code",
   "execution_count": 6,
   "id": "c6553b55",
   "metadata": {},
   "outputs": [],
   "source": [
    "# fill null values with forward fill method\n",
    "dfx.lost_reason.fillna(method='ffill',inplace=True)\n",
    "dfx.budget.fillna(method='ffill',inplace=True)\n",
    "dfx.lease.fillna(method='ffill',inplace=True)\n",
    "dfx.movein.fillna(method='ffill',inplace=True)"
   ]
  },
  {
   "cell_type": "code",
   "execution_count": 7,
   "id": "161deb82",
   "metadata": {},
   "outputs": [
    {
     "data": {
      "text/plain": [
       "status             0\n",
       "lost_reason        0\n",
       "budget             2\n",
       "lease              2\n",
       "movein             2\n",
       "room_type      23547\n",
       "dtype: int64"
      ]
     },
     "execution_count": 7,
     "metadata": {},
     "output_type": "execute_result"
    }
   ],
   "source": [
    "# check null values after cleaning\n",
    "dfx.isnull().sum()"
   ]
  },
  {
   "cell_type": "markdown",
   "id": "93b7534b",
   "metadata": {},
   "source": [
    "**We Can See That Some Null Values Are Still Present Because We Are Using Forward Fill Method, So We Have To Fill It With Backward Fill Method**"
   ]
  },
  {
   "cell_type": "code",
   "execution_count": 8,
   "id": "a260a714",
   "metadata": {},
   "outputs": [],
   "source": [
    "# fill null values with backward fill method\n",
    "dfx.budget.fillna(method='bfill',inplace=True)\n",
    "dfx.lease.fillna(method='bfill',inplace=True)\n",
    "dfx.movein.fillna(method='bfill',inplace=True)"
   ]
  },
  {
   "cell_type": "code",
   "execution_count": 9,
   "id": "ff89816b",
   "metadata": {},
   "outputs": [],
   "source": [
    "# drop room type column because it contains more than 50% of null values\n",
    "dfx.drop('room_type',inplace = True, axis = 1)"
   ]
  },
  {
   "cell_type": "code",
   "execution_count": 10,
   "id": "a3f5ee33",
   "metadata": {},
   "outputs": [
    {
     "name": "stdout",
     "output_type": "stream",
     "text": [
      "Duplicate Values:-\n",
      "\n",
      "20612\n",
      "\n",
      "Duplicate Values In Percentage:-\n",
      "\n",
      "44.22416752488843\n"
     ]
    }
   ],
   "source": [
    "# check duplicate values\n",
    "dfx.duplicated().sum()\n",
    "print(f'Duplicate Values:-\\n\\n{dfx.duplicated().sum()}\\n\\nDuplicate Values In Percentage:-\\n\\n{(dfx.duplicated().sum()/dfx.shape[0])*100}')"
   ]
  },
  {
   "cell_type": "markdown",
   "id": "63f2f322",
   "metadata": {},
   "source": [
    "**We Can Clearly See More Then 44% Of Duplicate Data Is Present In Our Dataset, For Better Model Building First We Have To Clean It**"
   ]
  },
  {
   "cell_type": "code",
   "execution_count": 11,
   "id": "a8c20f2e",
   "metadata": {},
   "outputs": [],
   "source": [
    "# drop duplicate values\n",
    "dfx.drop_duplicates(inplace=True)"
   ]
  },
  {
   "cell_type": "code",
   "execution_count": 12,
   "id": "03f48fcf",
   "metadata": {
    "scrolled": false
   },
   "outputs": [
    {
     "data": {
      "text/html": [
       "<div>\n",
       "<style scoped>\n",
       "    .dataframe tbody tr th:only-of-type {\n",
       "        vertical-align: middle;\n",
       "    }\n",
       "\n",
       "    .dataframe tbody tr th {\n",
       "        vertical-align: top;\n",
       "    }\n",
       "\n",
       "    .dataframe thead th {\n",
       "        text-align: right;\n",
       "    }\n",
       "</style>\n",
       "<table border=\"1\" class=\"dataframe\">\n",
       "  <thead>\n",
       "    <tr style=\"text-align: right;\">\n",
       "      <th></th>\n",
       "      <th>status</th>\n",
       "      <th>lost_reason</th>\n",
       "      <th>budget</th>\n",
       "      <th>lease</th>\n",
       "      <th>movein</th>\n",
       "    </tr>\n",
       "  </thead>\n",
       "  <tbody>\n",
       "    <tr>\n",
       "      <th>0</th>\n",
       "      <td>LOST</td>\n",
       "      <td>Not responding</td>\n",
       "      <td>£121 - £180 Per Week</td>\n",
       "      <td>Full Year Course Stay 40 - 44 weeks</td>\n",
       "      <td>31/08/22</td>\n",
       "    </tr>\n",
       "    <tr>\n",
       "      <th>1</th>\n",
       "      <td>LOST</td>\n",
       "      <td>Low budget</td>\n",
       "      <td>£121 - £180 Per Week</td>\n",
       "      <td>Full Year Course Stay 40 - 44 weeks</td>\n",
       "      <td>31/08/22</td>\n",
       "    </tr>\n",
       "    <tr>\n",
       "      <th>3</th>\n",
       "      <td>LOST</td>\n",
       "      <td>Low budget</td>\n",
       "      <td>0-0</td>\n",
       "      <td>0</td>\n",
       "      <td>31/08/22</td>\n",
       "    </tr>\n",
       "    <tr>\n",
       "      <th>4</th>\n",
       "      <td>LOST</td>\n",
       "      <td>Junk lead</td>\n",
       "      <td>0-0</td>\n",
       "      <td>0</td>\n",
       "      <td>31/08/22</td>\n",
       "    </tr>\n",
       "    <tr>\n",
       "      <th>5</th>\n",
       "      <td>LOST</td>\n",
       "      <td>Wants private accommodation</td>\n",
       "      <td>120</td>\n",
       "      <td>semester-stay</td>\n",
       "      <td>31/08/22</td>\n",
       "    </tr>\n",
       "  </tbody>\n",
       "</table>\n",
       "</div>"
      ],
      "text/plain": [
       "  status                  lost_reason                budget  \\\n",
       "0   LOST               Not responding  £121 - £180 Per Week   \n",
       "1   LOST                   Low budget  £121 - £180 Per Week   \n",
       "3   LOST                   Low budget                   0-0   \n",
       "4   LOST                    Junk lead                   0-0   \n",
       "5   LOST  Wants private accommodation                   120   \n",
       "\n",
       "                                 lease    movein  \n",
       "0  Full Year Course Stay 40 - 44 weeks  31/08/22  \n",
       "1  Full Year Course Stay 40 - 44 weeks  31/08/22  \n",
       "3                                    0  31/08/22  \n",
       "4                                    0  31/08/22  \n",
       "5                        semester-stay  31/08/22  "
      ]
     },
     "execution_count": 12,
     "metadata": {},
     "output_type": "execute_result"
    }
   ],
   "source": [
    "dfx.head()"
   ]
  },
  {
   "cell_type": "markdown",
   "id": "c81102d9",
   "metadata": {},
   "source": [
    "# Feature Engineering"
   ]
  },
  {
   "cell_type": "code",
   "execution_count": 13,
   "id": "b1732dc1",
   "metadata": {},
   "outputs": [],
   "source": [
    "# create copy of dataframe\n",
    "df2 = dfx.copy()"
   ]
  },
  {
   "cell_type": "code",
   "execution_count": 14,
   "id": "088d077b",
   "metadata": {
    "scrolled": true
   },
   "outputs": [],
   "source": [
    "# take values whose count is more than 100 in lost reason column\n",
    "lost = df2.lost_reason.value_counts()\n",
    "lost_100 = lost[lost>100]"
   ]
  },
  {
   "cell_type": "code",
   "execution_count": 15,
   "id": "a5f78726",
   "metadata": {
    "scrolled": true
   },
   "outputs": [],
   "source": [
    "# map values to others whose count is less than 100\n",
    "df2['lost_reason'] = df2['lost_reason'].map(lambda x: 'Others' if x not in lost_100 else x)"
   ]
  },
  {
   "cell_type": "code",
   "execution_count": 16,
   "id": "0e09dd68",
   "metadata": {},
   "outputs": [
    {
     "data": {
      "text/html": [
       "<div>\n",
       "<style scoped>\n",
       "    .dataframe tbody tr th:only-of-type {\n",
       "        vertical-align: middle;\n",
       "    }\n",
       "\n",
       "    .dataframe tbody tr th {\n",
       "        vertical-align: top;\n",
       "    }\n",
       "\n",
       "    .dataframe thead th {\n",
       "        text-align: right;\n",
       "    }\n",
       "</style>\n",
       "<table border=\"1\" class=\"dataframe\">\n",
       "  <thead>\n",
       "    <tr style=\"text-align: right;\">\n",
       "      <th></th>\n",
       "      <th>status</th>\n",
       "      <th>lost_reason</th>\n",
       "      <th>budget</th>\n",
       "      <th>lease</th>\n",
       "      <th>movein</th>\n",
       "    </tr>\n",
       "  </thead>\n",
       "  <tbody>\n",
       "    <tr>\n",
       "      <th>0</th>\n",
       "      <td>LOST</td>\n",
       "      <td>Not responding</td>\n",
       "      <td>£121 - £180 Per Week</td>\n",
       "      <td>Full Year Course Stay 40 - 44 weeks</td>\n",
       "      <td>31/08/22</td>\n",
       "    </tr>\n",
       "    <tr>\n",
       "      <th>1</th>\n",
       "      <td>LOST</td>\n",
       "      <td>Low budget</td>\n",
       "      <td>£121 - £180 Per Week</td>\n",
       "      <td>Full Year Course Stay 40 - 44 weeks</td>\n",
       "      <td>31/08/22</td>\n",
       "    </tr>\n",
       "  </tbody>\n",
       "</table>\n",
       "</div>"
      ],
      "text/plain": [
       "  status     lost_reason                budget  \\\n",
       "0   LOST  Not responding  £121 - £180 Per Week   \n",
       "1   LOST      Low budget  £121 - £180 Per Week   \n",
       "\n",
       "                                 lease    movein  \n",
       "0  Full Year Course Stay 40 - 44 weeks  31/08/22  \n",
       "1  Full Year Course Stay 40 - 44 weeks  31/08/22  "
      ]
     },
     "execution_count": 16,
     "metadata": {},
     "output_type": "execute_result"
    }
   ],
   "source": [
    "df2.head(2)"
   ]
  },
  {
   "cell_type": "code",
   "execution_count": 17,
   "id": "b593a4e3",
   "metadata": {},
   "outputs": [],
   "source": [
    "# extract numbers from budget column\n",
    "list_1 = []\n",
    "budget_1 = []\n",
    "budget_2 = []\n",
    "for i in df2.budget:\n",
    "    for x in i:\n",
    "        if x == '£':\n",
    "            i = i.replace(x,'')\n",
    "    list_1.append(i)\n",
    "for data in list_1:\n",
    "    splt = data.split('-')\n",
    "    if len(splt) == 2:\n",
    "        if re.findall(r'\\d+',splt[0]) and re.findall(r'\\d+',splt[1]):\n",
    "            budget_1.append(re.findall(r'\\d+',splt[0]))\n",
    "            budget_2.append(re.findall(r'\\d+',splt[1])) \n",
    "        else:\n",
    "            budget_1.append(0)\n",
    "            budget_2.append(0)\n",
    "            \n",
    "    elif len(splt) == 1:\n",
    "        budget_1.append(re.findall(r'\\d+',splt[0]))\n",
    "        budget_2.append(0)\n",
    "    \n",
    "    else:\n",
    "        budget_1.append(0)\n",
    "        budget_2.append(0)\n",
    "\n",
    "# create new columns for budget\n",
    "df2['budget_1'] = budget_1\n",
    "df2['budget_2'] = budget_2"
   ]
  },
  {
   "cell_type": "code",
   "execution_count": 18,
   "id": "a4e9b789",
   "metadata": {},
   "outputs": [],
   "source": [
    "# change datatype of budget_1 and budget_2 column\n",
    "df2['budget_1'] = df2['budget_1'].str[0].fillna(0).astype(float).astype(int)\n",
    "df2['budget_2'] = df2['budget_2'].str[0].fillna(0).astype(float).astype(int)"
   ]
  },
  {
   "cell_type": "code",
   "execution_count": 19,
   "id": "8aeafadd",
   "metadata": {
    "scrolled": true
   },
   "outputs": [],
   "source": [
    "# create new column for average budget\n",
    "new_budget = []\n",
    "for i,j in zip(df2.budget_1,df2.budget_2):\n",
    "    if i>0 and j>0:\n",
    "        val = (i+j)/2\n",
    "        new_budget.append(int(val))\n",
    "    else:\n",
    "        new_budget.append(int(i)+int(j))\n",
    "        \n",
    "df2['new_budget'] = new_budget"
   ]
  },
  {
   "cell_type": "code",
   "execution_count": 20,
   "id": "d4a8c089",
   "metadata": {},
   "outputs": [
    {
     "data": {
      "text/html": [
       "<div>\n",
       "<style scoped>\n",
       "    .dataframe tbody tr th:only-of-type {\n",
       "        vertical-align: middle;\n",
       "    }\n",
       "\n",
       "    .dataframe tbody tr th {\n",
       "        vertical-align: top;\n",
       "    }\n",
       "\n",
       "    .dataframe thead th {\n",
       "        text-align: right;\n",
       "    }\n",
       "</style>\n",
       "<table border=\"1\" class=\"dataframe\">\n",
       "  <thead>\n",
       "    <tr style=\"text-align: right;\">\n",
       "      <th></th>\n",
       "      <th>status</th>\n",
       "      <th>lost_reason</th>\n",
       "      <th>budget</th>\n",
       "      <th>lease</th>\n",
       "      <th>movein</th>\n",
       "      <th>budget_1</th>\n",
       "      <th>budget_2</th>\n",
       "      <th>new_budget</th>\n",
       "    </tr>\n",
       "  </thead>\n",
       "  <tbody>\n",
       "    <tr>\n",
       "      <th>0</th>\n",
       "      <td>LOST</td>\n",
       "      <td>Not responding</td>\n",
       "      <td>£121 - £180 Per Week</td>\n",
       "      <td>Full Year Course Stay 40 - 44 weeks</td>\n",
       "      <td>31/08/22</td>\n",
       "      <td>121</td>\n",
       "      <td>180</td>\n",
       "      <td>150</td>\n",
       "    </tr>\n",
       "    <tr>\n",
       "      <th>1</th>\n",
       "      <td>LOST</td>\n",
       "      <td>Low budget</td>\n",
       "      <td>£121 - £180 Per Week</td>\n",
       "      <td>Full Year Course Stay 40 - 44 weeks</td>\n",
       "      <td>31/08/22</td>\n",
       "      <td>121</td>\n",
       "      <td>180</td>\n",
       "      <td>150</td>\n",
       "    </tr>\n",
       "    <tr>\n",
       "      <th>3</th>\n",
       "      <td>LOST</td>\n",
       "      <td>Low budget</td>\n",
       "      <td>0-0</td>\n",
       "      <td>0</td>\n",
       "      <td>31/08/22</td>\n",
       "      <td>0</td>\n",
       "      <td>0</td>\n",
       "      <td>0</td>\n",
       "    </tr>\n",
       "    <tr>\n",
       "      <th>4</th>\n",
       "      <td>LOST</td>\n",
       "      <td>Junk lead</td>\n",
       "      <td>0-0</td>\n",
       "      <td>0</td>\n",
       "      <td>31/08/22</td>\n",
       "      <td>0</td>\n",
       "      <td>0</td>\n",
       "      <td>0</td>\n",
       "    </tr>\n",
       "    <tr>\n",
       "      <th>5</th>\n",
       "      <td>LOST</td>\n",
       "      <td>Wants private accommodation</td>\n",
       "      <td>120</td>\n",
       "      <td>semester-stay</td>\n",
       "      <td>31/08/22</td>\n",
       "      <td>120</td>\n",
       "      <td>0</td>\n",
       "      <td>120</td>\n",
       "    </tr>\n",
       "  </tbody>\n",
       "</table>\n",
       "</div>"
      ],
      "text/plain": [
       "  status                  lost_reason                budget  \\\n",
       "0   LOST               Not responding  £121 - £180 Per Week   \n",
       "1   LOST                   Low budget  £121 - £180 Per Week   \n",
       "3   LOST                   Low budget                   0-0   \n",
       "4   LOST                    Junk lead                   0-0   \n",
       "5   LOST  Wants private accommodation                   120   \n",
       "\n",
       "                                 lease    movein  budget_1  budget_2  \\\n",
       "0  Full Year Course Stay 40 - 44 weeks  31/08/22       121       180   \n",
       "1  Full Year Course Stay 40 - 44 weeks  31/08/22       121       180   \n",
       "3                                    0  31/08/22         0         0   \n",
       "4                                    0  31/08/22         0         0   \n",
       "5                        semester-stay  31/08/22       120         0   \n",
       "\n",
       "   new_budget  \n",
       "0         150  \n",
       "1         150  \n",
       "3           0  \n",
       "4           0  \n",
       "5         120  "
      ]
     },
     "execution_count": 20,
     "metadata": {},
     "output_type": "execute_result"
    }
   ],
   "source": [
    "df2.head()"
   ]
  },
  {
   "cell_type": "code",
   "execution_count": 21,
   "id": "1fab0864",
   "metadata": {},
   "outputs": [],
   "source": [
    "# extract numbers from lease column\n",
    "lease_1 = []\n",
    "lease_2 = []\n",
    "for data in df2.lease:\n",
    "    splt = data.split('-')\n",
    "    if len(splt) == 2:\n",
    "        if re.findall(r'\\d+',splt[0]) and re.findall(r'\\d+',splt[1]):\n",
    "            lease_1.append(re.findall(r'\\d+',splt[0]))\n",
    "            lease_2.append(re.findall(r'\\d+',splt[1])) \n",
    "        else:\n",
    "            lease_1.append(0)\n",
    "            lease_2.append(0)\n",
    "            \n",
    "    elif len(splt) == 1:\n",
    "        lease_1.append(re.findall(r'\\d+',splt[0]))\n",
    "        lease_2.append(0)\n",
    "    \n",
    "    else:\n",
    "        lease_1.append(0)\n",
    "        lease_2.append(0)\n",
    "df2['lease_1'] = lease_1\n",
    "df2['lease_2'] = lease_2"
   ]
  },
  {
   "cell_type": "code",
   "execution_count": 22,
   "id": "86b59205",
   "metadata": {
    "scrolled": true
   },
   "outputs": [],
   "source": [
    "# change datatype of lease_1 and lease_2 column\n",
    "df2['lease_1'] = df2['lease_1'].str[0].fillna(0).astype(float).astype(int)\n",
    "df2['lease_2'] = df2['lease_2'].str[0].fillna(0).astype(float).astype(int)"
   ]
  },
  {
   "cell_type": "code",
   "execution_count": 23,
   "id": "6e2ba622",
   "metadata": {
    "scrolled": true
   },
   "outputs": [],
   "source": [
    "# create new column for average lease\n",
    "new_lease = []\n",
    "for i,j in zip(df2.lease_1,df2.lease_2):\n",
    "    if i>0 and j>0:\n",
    "        val = (i+j)/2\n",
    "        new_lease.append(int(val))\n",
    "    else:\n",
    "        new_lease.append(int(i)+int(j))\n",
    "        \n",
    "df2['new_lease'] = new_lease"
   ]
  },
  {
   "cell_type": "code",
   "execution_count": 24,
   "id": "e9fc1aa2",
   "metadata": {},
   "outputs": [
    {
     "data": {
      "text/html": [
       "<div>\n",
       "<style scoped>\n",
       "    .dataframe tbody tr th:only-of-type {\n",
       "        vertical-align: middle;\n",
       "    }\n",
       "\n",
       "    .dataframe tbody tr th {\n",
       "        vertical-align: top;\n",
       "    }\n",
       "\n",
       "    .dataframe thead th {\n",
       "        text-align: right;\n",
       "    }\n",
       "</style>\n",
       "<table border=\"1\" class=\"dataframe\">\n",
       "  <thead>\n",
       "    <tr style=\"text-align: right;\">\n",
       "      <th></th>\n",
       "      <th>status</th>\n",
       "      <th>lost_reason</th>\n",
       "      <th>budget</th>\n",
       "      <th>lease</th>\n",
       "      <th>movein</th>\n",
       "      <th>budget_1</th>\n",
       "      <th>budget_2</th>\n",
       "      <th>new_budget</th>\n",
       "      <th>lease_1</th>\n",
       "      <th>lease_2</th>\n",
       "      <th>new_lease</th>\n",
       "    </tr>\n",
       "  </thead>\n",
       "  <tbody>\n",
       "    <tr>\n",
       "      <th>0</th>\n",
       "      <td>LOST</td>\n",
       "      <td>Not responding</td>\n",
       "      <td>£121 - £180 Per Week</td>\n",
       "      <td>Full Year Course Stay 40 - 44 weeks</td>\n",
       "      <td>31/08/22</td>\n",
       "      <td>121</td>\n",
       "      <td>180</td>\n",
       "      <td>150</td>\n",
       "      <td>40</td>\n",
       "      <td>44</td>\n",
       "      <td>42</td>\n",
       "    </tr>\n",
       "    <tr>\n",
       "      <th>1</th>\n",
       "      <td>LOST</td>\n",
       "      <td>Low budget</td>\n",
       "      <td>£121 - £180 Per Week</td>\n",
       "      <td>Full Year Course Stay 40 - 44 weeks</td>\n",
       "      <td>31/08/22</td>\n",
       "      <td>121</td>\n",
       "      <td>180</td>\n",
       "      <td>150</td>\n",
       "      <td>40</td>\n",
       "      <td>44</td>\n",
       "      <td>42</td>\n",
       "    </tr>\n",
       "    <tr>\n",
       "      <th>3</th>\n",
       "      <td>LOST</td>\n",
       "      <td>Low budget</td>\n",
       "      <td>0-0</td>\n",
       "      <td>0</td>\n",
       "      <td>31/08/22</td>\n",
       "      <td>0</td>\n",
       "      <td>0</td>\n",
       "      <td>0</td>\n",
       "      <td>0</td>\n",
       "      <td>0</td>\n",
       "      <td>0</td>\n",
       "    </tr>\n",
       "    <tr>\n",
       "      <th>4</th>\n",
       "      <td>LOST</td>\n",
       "      <td>Junk lead</td>\n",
       "      <td>0-0</td>\n",
       "      <td>0</td>\n",
       "      <td>31/08/22</td>\n",
       "      <td>0</td>\n",
       "      <td>0</td>\n",
       "      <td>0</td>\n",
       "      <td>0</td>\n",
       "      <td>0</td>\n",
       "      <td>0</td>\n",
       "    </tr>\n",
       "    <tr>\n",
       "      <th>5</th>\n",
       "      <td>LOST</td>\n",
       "      <td>Wants private accommodation</td>\n",
       "      <td>120</td>\n",
       "      <td>semester-stay</td>\n",
       "      <td>31/08/22</td>\n",
       "      <td>120</td>\n",
       "      <td>0</td>\n",
       "      <td>120</td>\n",
       "      <td>0</td>\n",
       "      <td>0</td>\n",
       "      <td>0</td>\n",
       "    </tr>\n",
       "  </tbody>\n",
       "</table>\n",
       "</div>"
      ],
      "text/plain": [
       "  status                  lost_reason                budget  \\\n",
       "0   LOST               Not responding  £121 - £180 Per Week   \n",
       "1   LOST                   Low budget  £121 - £180 Per Week   \n",
       "3   LOST                   Low budget                   0-0   \n",
       "4   LOST                    Junk lead                   0-0   \n",
       "5   LOST  Wants private accommodation                   120   \n",
       "\n",
       "                                 lease    movein  budget_1  budget_2  \\\n",
       "0  Full Year Course Stay 40 - 44 weeks  31/08/22       121       180   \n",
       "1  Full Year Course Stay 40 - 44 weeks  31/08/22       121       180   \n",
       "3                                    0  31/08/22         0         0   \n",
       "4                                    0  31/08/22         0         0   \n",
       "5                        semester-stay  31/08/22       120         0   \n",
       "\n",
       "   new_budget  lease_1  lease_2  new_lease  \n",
       "0         150       40       44         42  \n",
       "1         150       40       44         42  \n",
       "3           0        0        0          0  \n",
       "4           0        0        0          0  \n",
       "5         120        0        0          0  "
      ]
     },
     "execution_count": 24,
     "metadata": {},
     "output_type": "execute_result"
    }
   ],
   "source": [
    "df2.head()"
   ]
  },
  {
   "cell_type": "code",
   "execution_count": 25,
   "id": "24391318",
   "metadata": {
    "scrolled": false
   },
   "outputs": [],
   "source": [
    "# split day month and year from the movein column\n",
    "day = []\n",
    "month = []\n",
    "year = []\n",
    "for dd in df2['movein']:\n",
    "    spl = dd.split('/')\n",
    "    day.append(int(spl[0]))\n",
    "    month.append(int(spl[1]))    \n",
    "    year.append(int(spl[2]))    \n",
    "\n",
    "# create new columns for day month and year column\n",
    "df2['day'] = day\n",
    "df2['month'] = month\n",
    "df2['year'] = year"
   ]
  },
  {
   "cell_type": "code",
   "execution_count": 26,
   "id": "68b9b501",
   "metadata": {},
   "outputs": [
    {
     "data": {
      "text/html": [
       "<div>\n",
       "<style scoped>\n",
       "    .dataframe tbody tr th:only-of-type {\n",
       "        vertical-align: middle;\n",
       "    }\n",
       "\n",
       "    .dataframe tbody tr th {\n",
       "        vertical-align: top;\n",
       "    }\n",
       "\n",
       "    .dataframe thead th {\n",
       "        text-align: right;\n",
       "    }\n",
       "</style>\n",
       "<table border=\"1\" class=\"dataframe\">\n",
       "  <thead>\n",
       "    <tr style=\"text-align: right;\">\n",
       "      <th></th>\n",
       "      <th>status</th>\n",
       "      <th>lost_reason</th>\n",
       "      <th>new_budget</th>\n",
       "      <th>new_lease</th>\n",
       "      <th>day</th>\n",
       "      <th>month</th>\n",
       "      <th>year</th>\n",
       "    </tr>\n",
       "  </thead>\n",
       "  <tbody>\n",
       "    <tr>\n",
       "      <th>0</th>\n",
       "      <td>LOST</td>\n",
       "      <td>Not responding</td>\n",
       "      <td>150</td>\n",
       "      <td>42</td>\n",
       "      <td>31</td>\n",
       "      <td>8</td>\n",
       "      <td>22</td>\n",
       "    </tr>\n",
       "    <tr>\n",
       "      <th>1</th>\n",
       "      <td>LOST</td>\n",
       "      <td>Low budget</td>\n",
       "      <td>150</td>\n",
       "      <td>42</td>\n",
       "      <td>31</td>\n",
       "      <td>8</td>\n",
       "      <td>22</td>\n",
       "    </tr>\n",
       "    <tr>\n",
       "      <th>3</th>\n",
       "      <td>LOST</td>\n",
       "      <td>Low budget</td>\n",
       "      <td>0</td>\n",
       "      <td>0</td>\n",
       "      <td>31</td>\n",
       "      <td>8</td>\n",
       "      <td>22</td>\n",
       "    </tr>\n",
       "    <tr>\n",
       "      <th>4</th>\n",
       "      <td>LOST</td>\n",
       "      <td>Junk lead</td>\n",
       "      <td>0</td>\n",
       "      <td>0</td>\n",
       "      <td>31</td>\n",
       "      <td>8</td>\n",
       "      <td>22</td>\n",
       "    </tr>\n",
       "    <tr>\n",
       "      <th>5</th>\n",
       "      <td>LOST</td>\n",
       "      <td>Wants private accommodation</td>\n",
       "      <td>120</td>\n",
       "      <td>0</td>\n",
       "      <td>31</td>\n",
       "      <td>8</td>\n",
       "      <td>22</td>\n",
       "    </tr>\n",
       "  </tbody>\n",
       "</table>\n",
       "</div>"
      ],
      "text/plain": [
       "  status                  lost_reason  new_budget  new_lease  day  month  year\n",
       "0   LOST               Not responding         150         42   31      8    22\n",
       "1   LOST                   Low budget         150         42   31      8    22\n",
       "3   LOST                   Low budget           0          0   31      8    22\n",
       "4   LOST                    Junk lead           0          0   31      8    22\n",
       "5   LOST  Wants private accommodation         120          0   31      8    22"
      ]
     },
     "execution_count": 26,
     "metadata": {},
     "output_type": "execute_result"
    }
   ],
   "source": [
    "# create new dataframe for selected columns\n",
    "df3 = df2[['status', 'lost_reason','new_budget','new_lease','day', 'month', 'year']]\n",
    "df3.head()"
   ]
  },
  {
   "cell_type": "code",
   "execution_count": 27,
   "id": "c0f80d70",
   "metadata": {},
   "outputs": [],
   "source": [
    "# data encoding for status column\n",
    "df3['status'] = df3['status'].map({'LOST':0, 'WON':1, 'OPPORTUNITY':2, 'CONTACTED':3, 'PROCESSING':4, 'IMPORTANT':5})"
   ]
  },
  {
   "cell_type": "code",
   "execution_count": 28,
   "id": "01ad1358",
   "metadata": {},
   "outputs": [],
   "source": [
    "# one hot encoding of lost reason column\n",
    "data = pd.get_dummies(df3['lost_reason'],drop_first=True)"
   ]
  },
  {
   "cell_type": "code",
   "execution_count": 29,
   "id": "c75b7333",
   "metadata": {},
   "outputs": [],
   "source": [
    "# concat data with dataframe\n",
    "df3 = pd.concat([df3,data],axis = 1)"
   ]
  },
  {
   "cell_type": "code",
   "execution_count": 30,
   "id": "c62e4f50",
   "metadata": {},
   "outputs": [],
   "source": [
    "# drop lost reason column\n",
    "df3.drop('lost_reason',axis = 1,inplace = True)"
   ]
  },
  {
   "cell_type": "code",
   "execution_count": 31,
   "id": "f965db2c",
   "metadata": {},
   "outputs": [
    {
     "data": {
      "text/html": [
       "<div>\n",
       "<style scoped>\n",
       "    .dataframe tbody tr th:only-of-type {\n",
       "        vertical-align: middle;\n",
       "    }\n",
       "\n",
       "    .dataframe tbody tr th {\n",
       "        vertical-align: top;\n",
       "    }\n",
       "\n",
       "    .dataframe thead th {\n",
       "        text-align: right;\n",
       "    }\n",
       "</style>\n",
       "<table border=\"1\" class=\"dataframe\">\n",
       "  <thead>\n",
       "    <tr style=\"text-align: right;\">\n",
       "      <th></th>\n",
       "      <th>status</th>\n",
       "      <th>new_budget</th>\n",
       "      <th>new_lease</th>\n",
       "      <th>day</th>\n",
       "      <th>month</th>\n",
       "      <th>year</th>\n",
       "      <th>Booked with competitor</th>\n",
       "      <th>Booked with manager</th>\n",
       "      <th>Distance issue</th>\n",
       "      <th>Inadequate details</th>\n",
       "      <th>Junk lead</th>\n",
       "      <th>Junk lead/ Just Enquiring</th>\n",
       "      <th>Just Enquiring</th>\n",
       "      <th>Lead issue</th>\n",
       "      <th>Low availability</th>\n",
       "      <th>Low budget</th>\n",
       "      <th>No supply</th>\n",
       "      <th>Not a student</th>\n",
       "      <th>Not going to university</th>\n",
       "      <th>Not interested</th>\n",
       "      <th>Not responding</th>\n",
       "      <th>Not serving in that region</th>\n",
       "      <th>Others</th>\n",
       "      <th>Repeat lead</th>\n",
       "      <th>Semester stay</th>\n",
       "      <th>Short stay</th>\n",
       "      <th>Supply issue</th>\n",
       "      <th>Wants private accommodation</th>\n",
       "    </tr>\n",
       "  </thead>\n",
       "  <tbody>\n",
       "    <tr>\n",
       "      <th>0</th>\n",
       "      <td>0</td>\n",
       "      <td>150</td>\n",
       "      <td>42</td>\n",
       "      <td>31</td>\n",
       "      <td>8</td>\n",
       "      <td>22</td>\n",
       "      <td>0</td>\n",
       "      <td>0</td>\n",
       "      <td>0</td>\n",
       "      <td>0</td>\n",
       "      <td>0</td>\n",
       "      <td>0</td>\n",
       "      <td>0</td>\n",
       "      <td>0</td>\n",
       "      <td>0</td>\n",
       "      <td>0</td>\n",
       "      <td>0</td>\n",
       "      <td>0</td>\n",
       "      <td>0</td>\n",
       "      <td>0</td>\n",
       "      <td>1</td>\n",
       "      <td>0</td>\n",
       "      <td>0</td>\n",
       "      <td>0</td>\n",
       "      <td>0</td>\n",
       "      <td>0</td>\n",
       "      <td>0</td>\n",
       "      <td>0</td>\n",
       "    </tr>\n",
       "    <tr>\n",
       "      <th>1</th>\n",
       "      <td>0</td>\n",
       "      <td>150</td>\n",
       "      <td>42</td>\n",
       "      <td>31</td>\n",
       "      <td>8</td>\n",
       "      <td>22</td>\n",
       "      <td>0</td>\n",
       "      <td>0</td>\n",
       "      <td>0</td>\n",
       "      <td>0</td>\n",
       "      <td>0</td>\n",
       "      <td>0</td>\n",
       "      <td>0</td>\n",
       "      <td>0</td>\n",
       "      <td>0</td>\n",
       "      <td>1</td>\n",
       "      <td>0</td>\n",
       "      <td>0</td>\n",
       "      <td>0</td>\n",
       "      <td>0</td>\n",
       "      <td>0</td>\n",
       "      <td>0</td>\n",
       "      <td>0</td>\n",
       "      <td>0</td>\n",
       "      <td>0</td>\n",
       "      <td>0</td>\n",
       "      <td>0</td>\n",
       "      <td>0</td>\n",
       "    </tr>\n",
       "  </tbody>\n",
       "</table>\n",
       "</div>"
      ],
      "text/plain": [
       "   status  new_budget  new_lease  day  month  year  Booked with competitor  \\\n",
       "0       0         150         42   31      8    22                       0   \n",
       "1       0         150         42   31      8    22                       0   \n",
       "\n",
       "   Booked with manager  Distance issue  Inadequate details  Junk lead  \\\n",
       "0                    0               0                   0          0   \n",
       "1                    0               0                   0          0   \n",
       "\n",
       "   Junk lead/ Just Enquiring  Just Enquiring  Lead issue  Low availability  \\\n",
       "0                          0               0           0                 0   \n",
       "1                          0               0           0                 0   \n",
       "\n",
       "   Low budget  No supply  Not a student  Not going to university  \\\n",
       "0           0          0              0                        0   \n",
       "1           1          0              0                        0   \n",
       "\n",
       "   Not interested  Not responding  Not serving in that region  Others  \\\n",
       "0               0               1                           0       0   \n",
       "1               0               0                           0       0   \n",
       "\n",
       "   Repeat lead  Semester stay  Short stay  Supply issue  \\\n",
       "0            0              0           0             0   \n",
       "1            0              0           0             0   \n",
       "\n",
       "   Wants private accommodation  \n",
       "0                            0  \n",
       "1                            0  "
      ]
     },
     "execution_count": 31,
     "metadata": {},
     "output_type": "execute_result"
    }
   ],
   "source": [
    "df3.head(2)"
   ]
  },
  {
   "cell_type": "code",
   "execution_count": 32,
   "id": "2e53d638",
   "metadata": {},
   "outputs": [],
   "source": [
    "# take only those data where status is 0 or 1\n",
    "df4 = df3[(df3['status'] == 0) | (df3['status'] == 1)]"
   ]
  },
  {
   "cell_type": "code",
   "execution_count": 33,
   "id": "daea055a",
   "metadata": {},
   "outputs": [
    {
     "name": "stdout",
     "output_type": "stream",
     "text": [
      "Status Distribution:-\n",
      "\n",
      "0    23155\n",
      "1     2563\n",
      "Name: status, dtype: int64\n",
      "\n",
      "Status Distribution In Percentage:-\n",
      "\n",
      "0    90.034217\n",
      "1     9.965783\n",
      "Name: status, dtype: float64\n"
     ]
    }
   ],
   "source": [
    "# check target column distribution\n",
    "df4.status.value_counts()\n",
    "print(f'Status Distribution:-\\n\\n{df4.status.value_counts()}\\n\\nStatus Distribution In Percentage:-\\n\\n{(df4.status.value_counts()/df4.shape[0])*100}')"
   ]
  },
  {
   "cell_type": "markdown",
   "id": "67b43edb",
   "metadata": {},
   "source": [
    "**We Can Clearly See Our Data Set Is Imbalanced, In Target Column More Than 90% Data Comes With 0 And Only 9% Data Comes With 1, So Before Model Building We Have To Balance It**"
   ]
  },
  {
   "cell_type": "markdown",
   "id": "0426da17",
   "metadata": {},
   "source": [
    "# Data Spliting"
   ]
  },
  {
   "cell_type": "code",
   "execution_count": 34,
   "id": "2e3f5cb4",
   "metadata": {},
   "outputs": [],
   "source": [
    "X = df4.drop('status',axis = 1)\n",
    "y = df4['status']"
   ]
  },
  {
   "cell_type": "markdown",
   "id": "4cbbbd04",
   "metadata": {},
   "source": [
    "# Data Balancing"
   ]
  },
  {
   "cell_type": "code",
   "execution_count": 35,
   "id": "f5080183",
   "metadata": {},
   "outputs": [],
   "source": [
    "# data balance with smotetomek\n",
    "from imblearn.over_sampling import SMOTE\n",
    "smt = SMOTE(sampling_strategy=0.80)\n",
    "X, y = smt.fit_resample(X, y)"
   ]
  },
  {
   "cell_type": "code",
   "execution_count": 36,
   "id": "e078cb3e",
   "metadata": {},
   "outputs": [],
   "source": [
    "# train test split\n",
    "from sklearn.model_selection import train_test_split\n",
    "X_train,X_test,y_train,y_test = train_test_split(X,y,test_size=0.2,random_state=42)"
   ]
  },
  {
   "cell_type": "markdown",
   "id": "a5700562",
   "metadata": {},
   "source": [
    "# Data Scaling"
   ]
  },
  {
   "cell_type": "code",
   "execution_count": 37,
   "id": "f41cdf5e",
   "metadata": {},
   "outputs": [],
   "source": [
    "# data scaling with standard scaler\n",
    "from sklearn.preprocessing import StandardScaler\n",
    "sc = StandardScaler()\n",
    "X_train = sc.fit_transform(X_train)\n",
    "X_test = sc.transform(X_test)"
   ]
  },
  {
   "cell_type": "markdown",
   "id": "28c25bd8",
   "metadata": {},
   "source": [
    "# Model Building"
   ]
  },
  {
   "cell_type": "code",
   "execution_count": 38,
   "id": "8cfe8db6",
   "metadata": {
    "scrolled": true
   },
   "outputs": [
    {
     "name": "stdout",
     "output_type": "stream",
     "text": [
      "For Logistic Regression:-\n",
      "The Training Accuracy is: 0.8396069026743475\n",
      "The Testing Accuracy is: 0.8312025927059925\n",
      "--------------------------------------------------------------------------------\n",
      "For KNN Classifier:-\n",
      "The Training Accuracy is: 0.904608760620295\n",
      "The Testing Accuracy is: 0.8635268345408669\n",
      "--------------------------------------------------------------------------------\n",
      "For RandomForest:-\n",
      "The Training Accuracy is: 0.959514062407828\n",
      "The Testing Accuracy is: 0.8830469383816851\n",
      "--------------------------------------------------------------------------------\n",
      "For AdaBoost:-\n",
      "The Training Accuracy is: 0.8375808121997035\n",
      "The Testing Accuracy is: 0.8299356555952416\n",
      "--------------------------------------------------------------------------------\n",
      "For XGBoost:-\n",
      "The Training Accuracy is: 0.8826401039357186\n",
      "The Testing Accuracy is: 0.8647274823322333\n",
      "--------------------------------------------------------------------------------\n"
     ]
    }
   ],
   "source": [
    "# train models and check accuracy score\n",
    "from sklearn.linear_model import LogisticRegression\n",
    "from sklearn.neighbors import KNeighborsClassifier\n",
    "from sklearn.ensemble import RandomForestClassifier\n",
    "from sklearn.ensemble import AdaBoostClassifier\n",
    "from xgboost import XGBClassifier\n",
    "from sklearn.metrics import roc_auc_score\n",
    "\n",
    "ml_models = [(\"Logistic Regression\",LogisticRegression()),\n",
    "       (\"KNN Classifier\", KNeighborsClassifier()),\n",
    "       (\"RandomForest\",RandomForestClassifier()),\n",
    "      (\"AdaBoost\",AdaBoostClassifier()),\n",
    "      (\"XGBoost\",XGBClassifier())]\n",
    "for name,model in ml_models:\n",
    "    model.fit(X_train,y_train)\n",
    "    y_pred1 = model.predict(X_train)\n",
    "    train_acc = roc_auc_score(y_train,y_pred1)\n",
    "    y_pred2 = model.predict(X_test)\n",
    "    test_acc = roc_auc_score(y_test,y_pred2)\n",
    "    print(f\"For {name}:-\\nThe Training Accuracy is: {train_acc}\\nThe Testing Accuracy is: {test_acc}\")\n",
    "    print(\"--\"*40)"
   ]
  },
  {
   "cell_type": "markdown",
   "id": "ca2f46cd",
   "metadata": {},
   "source": [
    "**We Can Clearly See XG Boost Classifier Is Giving The Best Result, So Will Take XG Boost Classifier As Our Final Model**"
   ]
  },
  {
   "cell_type": "code",
   "execution_count": 39,
   "id": "d6e53942",
   "metadata": {},
   "outputs": [
    {
     "data": {
      "text/plain": [
       "{'subsample': 0.7999999999999999,\n",
       " 'n_estimators': 250,\n",
       " 'max_depth': 8,\n",
       " 'learning_rate': 0.08999999999999998,\n",
       " 'colsample_bytree': 0.7,\n",
       " 'colsample_bylevel': 0.8999999999999999}"
      ]
     },
     "execution_count": 39,
     "metadata": {},
     "output_type": "execute_result"
    }
   ],
   "source": [
    "# find model best parameters\n",
    "from sklearn.model_selection import RandomizedSearchCV\n",
    "xgb = XGBClassifier()\n",
    "parameters = {\"n_estimators\": [50,100,150,200,250,300,350,400],\n",
    "             \"max_depth\": np.arange(2,10),\n",
    "             \"learning_rate\": np.arange(0.01,0.1,0.02),\n",
    "             'subsample': np.arange(0.5, 1.0, 0.1),\n",
    "             'colsample_bytree': np.arange(0.4, 1.0, 0.1),\n",
    "             'colsample_bylevel': np.arange(0.4, 1.0, 0.1)}\n",
    "ran_xgb = RandomizedSearchCV(xgb, parameters, cv = 5, random_state= 42)\n",
    "ran_xgb.fit(X_train,y_train)\n",
    "ran_xgb.best_params_"
   ]
  },
  {
   "cell_type": "markdown",
   "id": "114dbcea",
   "metadata": {},
   "source": [
    "# Tune Model With Best Parameters"
   ]
  },
  {
   "cell_type": "code",
   "execution_count": 40,
   "id": "c62d3817",
   "metadata": {},
   "outputs": [
    {
     "data": {
      "text/plain": [
       "87.3268796946303"
      ]
     },
     "execution_count": 40,
     "metadata": {},
     "output_type": "execute_result"
    }
   ],
   "source": [
    "# tune model\n",
    "xgb = XGBClassifier(subsample = 0.79, n_estimators = 250,\n",
    "                    max_depth = 8, learning_rate = 0.09,\n",
    "                    colsample_bytree = 0.7, colsample_bylevel = 0.89)\n",
    "xgb.fit(X_train,y_train)\n",
    "y_pred = xgb.predict(X_test)\n",
    "score = roc_auc_score(y_test,y_pred)*100\n",
    "score"
   ]
  },
  {
   "cell_type": "markdown",
   "id": "3b07b7ea",
   "metadata": {},
   "source": [
    "**We Are Getting More Then 87% Of Accuracy Score With XG Boost Model**"
   ]
  },
  {
   "cell_type": "code",
   "execution_count": 41,
   "id": "f5e2b2c3",
   "metadata": {
    "scrolled": true
   },
   "outputs": [
    {
     "data": {
      "text/plain": [
       "Not a student                  6.292204\n",
       "Low budget                     6.089373\n",
       "Wants private accommodation    5.894108\n",
       "Just Enquiring                 5.318133\n",
       "Booked with manager            5.317873\n",
       "Short stay                     5.053607\n",
       "Not interested                 5.008458\n",
       "Not responding                 4.853704\n",
       "Semester stay                  4.250910\n",
       "Inadequate details             4.212471\n",
       "Junk lead                      4.181040\n",
       "Low availability               4.156651\n",
       "No supply                      4.023013\n",
       "Booked with competitor         3.970712\n",
       "Repeat lead                    3.924649\n",
       "year                           3.857918\n",
       "Distance issue                 3.611315\n",
       "Not going to university        3.585965\n",
       "Supply issue                   3.462451\n",
       "Not serving in that region     3.437215\n",
       "Others                         2.850379\n",
       "Junk lead/ Just Enquiring      2.370708\n",
       "Lead issue                     2.316802\n",
       "new_lease                      0.792328\n",
       "month                          0.466189\n",
       "new_budget                     0.440209\n",
       "day                            0.261613\n",
       "Name: Feature Importance, dtype: float32"
      ]
     },
     "execution_count": 41,
     "metadata": {},
     "output_type": "execute_result"
    }
   ],
   "source": [
    "# feature impotance\n",
    "feature_importance = pd.DataFrame({'Feature Importance':xgb.feature_importances_*100},index = X.columns)\n",
    "feature_importance = feature_importance['Feature Importance'].sort_values(ascending=False)\n",
    "feature_importance"
   ]
  },
  {
   "cell_type": "markdown",
   "id": "211a1094",
   "metadata": {},
   "source": [
    "# Check Performance Of Model"
   ]
  },
  {
   "cell_type": "code",
   "execution_count": 42,
   "id": "c2c804fe",
   "metadata": {},
   "outputs": [],
   "source": [
    "# create dummy data for check performance of model\n",
    "dummy = X_train[0].reshape(1,-1)"
   ]
  },
  {
   "cell_type": "code",
   "execution_count": 43,
   "id": "c8d05d7d",
   "metadata": {},
   "outputs": [],
   "source": [
    "# scale dummy data\n",
    "dummy = sc.transform(dummy)"
   ]
  },
  {
   "cell_type": "code",
   "execution_count": 44,
   "id": "642a88c9",
   "metadata": {},
   "outputs": [
    {
     "data": {
      "text/plain": [
       "array([0])"
      ]
     },
     "execution_count": 44,
     "metadata": {},
     "output_type": "execute_result"
    }
   ],
   "source": [
    "# check prediction of dummy data\n",
    "xgb.predict(dummy)"
   ]
  },
  {
   "cell_type": "markdown",
   "id": "548c086b",
   "metadata": {},
   "source": [
    "**We Can See, We Are Getting Good Prediction With Our Final Model**"
   ]
  },
  {
   "cell_type": "markdown",
   "id": "d7efd956",
   "metadata": {},
   "source": [
    "# Important Points:-"
   ]
  },
  {
   "cell_type": "markdown",
   "id": "d56f19cb",
   "metadata": {},
   "source": [
    "1. In the given dataset most of the columns contain totally null values.\n",
    "2. Dataset came with a large amount of null and duplicate values. \n",
    "3. In the budget and lease column there were text values with numbers, I had to first extract numbers from the text.\n",
    "4. After extracting values I generated average values for them.\n",
    "5. Movien column was contain date and for model building I had split day, month and year from movien column.\n",
    "6. I have done label encoding for the status column and one hot encoding for the lost reason column.\n",
    "7. Before model building I removed values from the status column except 0 and 1.\n",
    "8. The dataset was imbalanced, so before model building, I balanced it with the SMOT library.\n",
    "9. After data balancing I did data scaling.\n",
    "10. I used different - different ML models for prediction and XG Boost gave the best result.\n",
    "11. I used auroc score for evaluation because the dataset was imbalanced.\n",
    "12. In the documentation it was mentioned that we have to take all columns as categorical but the budget and lease columns had continuous values after extracting numbers, that's why I toot its average and consider it to be int."
   ]
  },
  {
   "cell_type": "markdown",
   "id": "e18e145d",
   "metadata": {},
   "source": [
    "**I Hope You Will Like My Work**"
   ]
  },
  {
   "cell_type": "markdown",
   "id": "5d53bbb1",
   "metadata": {},
   "source": [
    "**Thank You :)**"
   ]
  },
  {
   "cell_type": "code",
   "execution_count": 45,
   "id": "da6088f3",
   "metadata": {},
   "outputs": [
    {
     "data": {
      "text/html": [
       "<div>\n",
       "<style scoped>\n",
       "    .dataframe tbody tr th:only-of-type {\n",
       "        vertical-align: middle;\n",
       "    }\n",
       "\n",
       "    .dataframe tbody tr th {\n",
       "        vertical-align: top;\n",
       "    }\n",
       "\n",
       "    .dataframe thead th {\n",
       "        text-align: right;\n",
       "    }\n",
       "</style>\n",
       "<table border=\"1\" class=\"dataframe\">\n",
       "  <thead>\n",
       "    <tr style=\"text-align: right;\">\n",
       "      <th></th>\n",
       "      <th>status</th>\n",
       "      <th>lost_reason</th>\n",
       "      <th>budget</th>\n",
       "      <th>lease</th>\n",
       "      <th>movein</th>\n",
       "      <th>budget_1</th>\n",
       "      <th>budget_2</th>\n",
       "      <th>new_budget</th>\n",
       "      <th>lease_1</th>\n",
       "      <th>lease_2</th>\n",
       "      <th>new_lease</th>\n",
       "      <th>day</th>\n",
       "      <th>month</th>\n",
       "      <th>year</th>\n",
       "    </tr>\n",
       "  </thead>\n",
       "  <tbody>\n",
       "    <tr>\n",
       "      <th>0</th>\n",
       "      <td>LOST</td>\n",
       "      <td>Not responding</td>\n",
       "      <td>£121 - £180 Per Week</td>\n",
       "      <td>Full Year Course Stay 40 - 44 weeks</td>\n",
       "      <td>31/08/22</td>\n",
       "      <td>121</td>\n",
       "      <td>180</td>\n",
       "      <td>150</td>\n",
       "      <td>40</td>\n",
       "      <td>44</td>\n",
       "      <td>42</td>\n",
       "      <td>31</td>\n",
       "      <td>8</td>\n",
       "      <td>22</td>\n",
       "    </tr>\n",
       "    <tr>\n",
       "      <th>1</th>\n",
       "      <td>LOST</td>\n",
       "      <td>Low budget</td>\n",
       "      <td>£121 - £180 Per Week</td>\n",
       "      <td>Full Year Course Stay 40 - 44 weeks</td>\n",
       "      <td>31/08/22</td>\n",
       "      <td>121</td>\n",
       "      <td>180</td>\n",
       "      <td>150</td>\n",
       "      <td>40</td>\n",
       "      <td>44</td>\n",
       "      <td>42</td>\n",
       "      <td>31</td>\n",
       "      <td>8</td>\n",
       "      <td>22</td>\n",
       "    </tr>\n",
       "    <tr>\n",
       "      <th>3</th>\n",
       "      <td>LOST</td>\n",
       "      <td>Low budget</td>\n",
       "      <td>0-0</td>\n",
       "      <td>0</td>\n",
       "      <td>31/08/22</td>\n",
       "      <td>0</td>\n",
       "      <td>0</td>\n",
       "      <td>0</td>\n",
       "      <td>0</td>\n",
       "      <td>0</td>\n",
       "      <td>0</td>\n",
       "      <td>31</td>\n",
       "      <td>8</td>\n",
       "      <td>22</td>\n",
       "    </tr>\n",
       "    <tr>\n",
       "      <th>4</th>\n",
       "      <td>LOST</td>\n",
       "      <td>Junk lead</td>\n",
       "      <td>0-0</td>\n",
       "      <td>0</td>\n",
       "      <td>31/08/22</td>\n",
       "      <td>0</td>\n",
       "      <td>0</td>\n",
       "      <td>0</td>\n",
       "      <td>0</td>\n",
       "      <td>0</td>\n",
       "      <td>0</td>\n",
       "      <td>31</td>\n",
       "      <td>8</td>\n",
       "      <td>22</td>\n",
       "    </tr>\n",
       "    <tr>\n",
       "      <th>5</th>\n",
       "      <td>LOST</td>\n",
       "      <td>Wants private accommodation</td>\n",
       "      <td>120</td>\n",
       "      <td>semester-stay</td>\n",
       "      <td>31/08/22</td>\n",
       "      <td>120</td>\n",
       "      <td>0</td>\n",
       "      <td>120</td>\n",
       "      <td>0</td>\n",
       "      <td>0</td>\n",
       "      <td>0</td>\n",
       "      <td>31</td>\n",
       "      <td>8</td>\n",
       "      <td>22</td>\n",
       "    </tr>\n",
       "  </tbody>\n",
       "</table>\n",
       "</div>"
      ],
      "text/plain": [
       "  status                  lost_reason                budget  \\\n",
       "0   LOST               Not responding  £121 - £180 Per Week   \n",
       "1   LOST                   Low budget  £121 - £180 Per Week   \n",
       "3   LOST                   Low budget                   0-0   \n",
       "4   LOST                    Junk lead                   0-0   \n",
       "5   LOST  Wants private accommodation                   120   \n",
       "\n",
       "                                 lease    movein  budget_1  budget_2  \\\n",
       "0  Full Year Course Stay 40 - 44 weeks  31/08/22       121       180   \n",
       "1  Full Year Course Stay 40 - 44 weeks  31/08/22       121       180   \n",
       "3                                    0  31/08/22         0         0   \n",
       "4                                    0  31/08/22         0         0   \n",
       "5                        semester-stay  31/08/22       120         0   \n",
       "\n",
       "   new_budget  lease_1  lease_2  new_lease  day  month  year  \n",
       "0         150       40       44         42   31      8    22  \n",
       "1         150       40       44         42   31      8    22  \n",
       "3           0        0        0          0   31      8    22  \n",
       "4           0        0        0          0   31      8    22  \n",
       "5         120        0        0          0   31      8    22  "
      ]
     },
     "execution_count": 45,
     "metadata": {},
     "output_type": "execute_result"
    }
   ],
   "source": [
    "df2.head()"
   ]
  },
  {
   "cell_type": "code",
   "execution_count": null,
   "id": "2f11cfa8",
   "metadata": {},
   "outputs": [],
   "source": []
  }
 ],
 "metadata": {
  "kernelspec": {
   "display_name": "Python 3 (ipykernel)",
   "language": "python",
   "name": "python3"
  },
  "language_info": {
   "codemirror_mode": {
    "name": "ipython",
    "version": 3
   },
   "file_extension": ".py",
   "mimetype": "text/x-python",
   "name": "python",
   "nbconvert_exporter": "python",
   "pygments_lexer": "ipython3",
   "version": "3.9.7"
  }
 },
 "nbformat": 4,
 "nbformat_minor": 5
}
